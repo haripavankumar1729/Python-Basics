{
 "cells": [
  {
   "cell_type": "markdown",
   "id": "5528790c",
   "metadata": {},
   "source": [
    "# 1. What is the purpose of Python&#39;s OOP?"
   ]
  },
  {
   "cell_type": "markdown",
   "id": "abfa98d9",
   "metadata": {},
   "source": [
    "Answer:\n",
    "    \n",
    "    The purpose of Object-Oriented Programming (OOP) in Python, as in other programming languages, is to organize code into reusable and maintainable components called objects. OOP in Python is based on the concept of classes and objects, where a class defines a blueprint for creating objects, and objects are instances of a class.\n",
    "    \n",
    "    There are several benefits of using OOP in Python, including:\n",
    "        \n",
    "        1. It aims to implement real-world entities like inheritance, polymorphisms, encapsulation, etc. in the programming.\n",
    "        \n",
    "        2. The main concept of OOPs is to bind the data and the functions that work on that together as a single unit so \n",
    "        that no other part of the code can access this data.\n",
    "        \n",
    "        3. It helps to divide our over all program into different small segments and thus making it solving easy with the \n",
    "        use of objects\n",
    "        \n",
    "        4. Helps in easy maintenance and modification of existing program\n",
    "        \n",
    "        5. Multiple instances of an object can be made.\n",
    "        \n",
    "    Encapsulation: OOP allows you to group data and functions that operate on that data into a single unit called a class. This encapsulation helps to reduce complexity and increase modularity by hiding implementation details and exposing a clean interface for working with objects.\n",
    "\n",
    "    Abstraction: OOP allows you to create abstract classes that define a set of methods without providing an implementation. This abstraction allows you to create a common interface for a group of related objects, making it easier to create new objects that share common behavior.\n",
    "\n",
    "    Inheritance: OOP allows you to create new classes by inheriting attributes and methods from existing classes. This inheritance promotes code reuse and allows you to create specialized classes that build on the functionality of their parent classes.\n",
    "\n",
    "    Polymorphism: OOP allows you to create objects that can take on many different forms or types. This polymorphism allows you to write code that can work with objects of different types without having to know the specific type at compile  \n",
    "    time.\n",
    "\n",
    "    Overall, OOP in Python provides a powerful and flexible way to create complex programs that are easy to maintain and \n",
    "    extend over time."
   ]
  },
  {
   "cell_type": "markdown",
   "id": "562368b0",
   "metadata": {},
   "source": [
    "# 2. Where does an inheritance search look for an attribute?"
   ]
  },
  {
   "cell_type": "markdown",
   "id": "a27fd55b",
   "metadata": {},
   "source": [
    "Answer:\n",
    "    \n",
    "    In Python, when an object's attribute is accessed using the dot notation (e.g. object.attribute), the interpreter \n",
    "    searches for the attribute in the following order:\n",
    "\n",
    "The instance dictionary: If the attribute is present in the instance dictionary, the interpreter returns its value.\n",
    "\n",
    "The class dictionary: If the attribute is not present in the instance dictionary, the interpreter searches for it in the class dictionary. If it's found there, the interpreter returns its value.\n",
    "\n",
    "Superclasses: If the attribute is not present in the instance or class dictionary, the interpreter searches for it in the class's parent classes, in the order they were listed when the class was defined. This is known as the method resolution order (MRO).\n",
    "\n",
    "If the attribute is not found in any of these locations, a AttributeError exception is raised."
   ]
  },
  {
   "cell_type": "markdown",
   "id": "ab26f79d",
   "metadata": {},
   "source": [
    "# 3. How do you distinguish between a class object and an instance object?"
   ]
  },
  {
   "cell_type": "markdown",
   "id": "6b6de5de",
   "metadata": {},
   "source": [
    "Answer:\n",
    "    \n",
    "    In Python, a class object is a blueprint for creating instance objects. A class defines a set of attributes and methods that are common to all instances created from it. Here's an example:\n",
    "    "
   ]
  },
  {
   "cell_type": "markdown",
   "id": "7e259fbd",
   "metadata": {},
   "source": [
    "Example "
   ]
  },
  {
   "cell_type": "code",
   "execution_count": 1,
   "id": "f9f8e6b6",
   "metadata": {},
   "outputs": [],
   "source": [
    "class MyClass:\n",
    "    class_var = 42\n",
    "    \n",
    "    def __init__(self, instance_var):\n",
    "        self.instance_var = instance_var\n",
    "\n",
    "obj = MyClass(10) # obj is an instance object\n"
   ]
  },
  {
   "cell_type": "code",
   "execution_count": null,
   "id": "2d77e861",
   "metadata": {},
   "outputs": [],
   "source": [
    "In this example, MyClass is a class object that defines a class variable class_var and an instance method __init__. \n",
    "\n",
    "The __init__ method is called when a new instance of the class is created, and it initializes the instance_var attribute of the instance.\n",
    "\n"
   ]
  },
  {
   "cell_type": "markdown",
   "id": "b9a2fbb6",
   "metadata": {},
   "source": [
    "To distinguish between a class object and an instance object, you can use the type() function. For example:\n",
    "\n"
   ]
  },
  {
   "cell_type": "code",
   "execution_count": 3,
   "id": "55f4b05b",
   "metadata": {},
   "outputs": [
    {
     "name": "stdout",
     "output_type": "stream",
     "text": [
      "<class 'type'>\n",
      "<class '__main__.MyClass'>\n"
     ]
    }
   ],
   "source": [
    "print(type(MyClass)) # <class 'type'>\n",
    "print(type(obj)) # <class '__main__.MyClass'>\n"
   ]
  },
  {
   "cell_type": "markdown",
   "id": "6a76de27",
   "metadata": {},
   "source": [
    "Here, type(MyClass) returns the type of the class object, which is type, whereas type(obj) returns the type of the instance object, which is the name of the class followed by a dot and the name of the class again."
   ]
  },
  {
   "cell_type": "markdown",
   "id": "c74a63fc",
   "metadata": {},
   "source": [
    "# 4. What makes the first argument in a class’s method function special?"
   ]
  },
  {
   "cell_type": "markdown",
   "id": "2284e8cd",
   "metadata": {},
   "source": [
    "Answer:\n",
    "    \n",
    "    Python Classes usually have three types of methods which are:\n",
    "\n",
    "Instance Methods (object level methods)\n",
    "\n",
    "Class Methods (class level methods)\n",
    "\n",
    "Static Methods (general utility methods)\n",
    "\n",
    "\"self\" is the first argument for instance methods. which refers to the object itself\n",
    "\n",
    "\"cls\" is the first argument for class methods which refers to the class itself"
   ]
  },
  {
   "cell_type": "code",
   "execution_count": 4,
   "id": "f98cbbf5",
   "metadata": {},
   "outputs": [
    {
     "name": "stdout",
     "output_type": "stream",
     "text": [
      "30\n"
     ]
    }
   ],
   "source": [
    "class MyClass:\n",
    "    def __init__(self, value):\n",
    "        self.value = value\n",
    "\n",
    "    def add(self, other):\n",
    "        return self.value + other.value\n",
    "\n",
    "obj1 = MyClass(10)\n",
    "obj2 = MyClass(20)\n",
    "print(obj1.add(obj2)) # Output: 30\n"
   ]
  },
  {
   "cell_type": "markdown",
   "id": "ec77f48b",
   "metadata": {},
   "source": [
    "In this example, the add method takes one argument, other, which is also an instance of MyClass. When we call obj1.add(obj2), obj1 is automatically passed as the first argument self to the method, and obj2 is passed as the second argument other. Inside the add method, we can access the value attribute of self and other and return their sum.\n",
    "\n",
    "So, the first argument in a class's method function is special because it refers to the instance of the class on which the method is called, and it allows you to access and modify its attributes."
   ]
  },
  {
   "cell_type": "markdown",
   "id": "09bcf811",
   "metadata": {},
   "source": [
    "# 5. What is the purpose of the __init__ method?"
   ]
  },
  {
   "cell_type": "markdown",
   "id": "a7410b41",
   "metadata": {},
   "source": [
    "Answer:\n",
    "    \n",
    "    The __init__ method is a special method in Python classes that is called when an instance of the class is created. It is also known as a constructor because it initializes the attributes of the instance with the values provided as arguments.\n",
    "\n",
    "    The purpose of the __init__ method is to set up the initial state of an instance of a class. It takes at least one \n",
    "    argument, which is conventionally named self, and it can also take other arguments that are used to initialize the               attributes of the instance. Here's an example:"
   ]
  },
  {
   "cell_type": "code",
   "execution_count": 5,
   "id": "1e52e1ab",
   "metadata": {},
   "outputs": [],
   "source": [
    "class MyClass:\n",
    "    def __init__(self, arg1, arg2):\n",
    "        self.attribute1 = arg1\n",
    "        self.attribute2 = arg2\n"
   ]
  },
  {
   "cell_type": "markdown",
   "id": "ebae71f8",
   "metadata": {},
   "source": [
    "In this example, the __init__ method takes two arguments, arg1 and arg2, and it initializes two attributes of the instance, attribute1 and attribute2, with the values of arg1 and arg2, respectively."
   ]
  },
  {
   "cell_type": "code",
   "execution_count": 6,
   "id": "d5e03454",
   "metadata": {},
   "outputs": [],
   "source": [
    "obj = MyClass(\"value1\", \"value2\")\n"
   ]
  },
  {
   "cell_type": "markdown",
   "id": "b1df962c",
   "metadata": {},
   "source": [
    "After this line of code, obj.attribute1 will have the value \"value1\" and obj.attribute2 will have the value \"value2\".\n",
    "\n",
    "In summary, the __init__ method is used to initialize the attributes of an instance of a class with the values provided as arguments. It is called automatically when you create a new instance of the class."
   ]
  },
  {
   "cell_type": "markdown",
   "id": "fb737eb5",
   "metadata": {},
   "source": [
    "# 6. What is the process for creating a class instance?"
   ]
  },
  {
   "cell_type": "markdown",
   "id": "e099dc2e",
   "metadata": {},
   "source": [
    "Answer:\n",
    "    \n",
    "    To create a class instance, we need to call the class by its name and pass the arguments to the class, which its init \n",
    "    method accepts.\n",
    "\n",
    "    Example: my_name = my_class(\"Mano\",\"vishnu\") Here my_name is an instance of class my_class with attributes \"Mano\" and \n",
    "    \"Vishnu\"."
   ]
  },
  {
   "cell_type": "markdown",
   "id": "fdd37c8a",
   "metadata": {},
   "source": [
    "# 7. What is the process for creating a class?"
   ]
  },
  {
   "cell_type": "markdown",
   "id": "7b55d55f",
   "metadata": {},
   "source": [
    "class keyword is used to created a class in python. The syntax to create a class in python is class <classname>:\n",
    "\n",
    "Example: class test: ➞ this creates a class called test"
   ]
  },
  {
   "cell_type": "markdown",
   "id": "6d770393",
   "metadata": {},
   "source": [
    "# 8. How would you define the superclasses of a class?"
   ]
  },
  {
   "cell_type": "markdown",
   "id": "96c48820",
   "metadata": {},
   "source": [
    "Answer:\n",
    "    \n",
    "    In Python, you can define the superclasses of a class by specifying them inside the parentheses of the class definition. This is also known as class inheritance.\n",
    "\n"
   ]
  },
  {
   "cell_type": "markdown",
   "id": "87e284f8",
   "metadata": {},
   "source": [
    "Superclass/Parent class is given as a arugment to the child class\n",
    "\n",
    "Example: class xyz1(xyz): Here child class xyz1 inherits attributes and methods from Superclass/Parent xyz"
   ]
  }
 ],
 "metadata": {
  "kernelspec": {
   "display_name": "Python 3 (ipykernel)",
   "language": "python",
   "name": "python3"
  },
  "language_info": {
   "codemirror_mode": {
    "name": "ipython",
    "version": 3
   },
   "file_extension": ".py",
   "mimetype": "text/x-python",
   "name": "python",
   "nbconvert_exporter": "python",
   "pygments_lexer": "ipython3",
   "version": "3.9.12"
  }
 },
 "nbformat": 4,
 "nbformat_minor": 5
}
