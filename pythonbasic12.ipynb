{
 "cells": [
  {
   "cell_type": "markdown",
   "id": "25aac2a8",
   "metadata": {},
   "source": [
    "# 1. In what modes should the PdfFileReader() and PdfFileWriter() File objects will be opened?"
   ]
  },
  {
   "cell_type": "markdown",
   "id": "b74ff8fa",
   "metadata": {},
   "source": [
    "Answer:\n"
   ]
  },
  {
   "cell_type": "code",
   "execution_count": 3,
   "id": "5aaea06b",
   "metadata": {},
   "outputs": [
    {
     "name": "stdout",
     "output_type": "stream",
     "text": [
      "Defaulting to user installation because normal site-packages is not writeable\n",
      "Requirement already satisfied: PyPDF2 in c:\\users\\haripavan\\appdata\\roaming\\python\\python39\\site-packages (3.0.1)\n",
      "Requirement already satisfied: typing_extensions>=3.10.0.0 in c:\\programdata\\anaconda3\\lib\\site-packages (from PyPDF2) (4.1.1)\n"
     ]
    }
   ],
   "source": [
    "!pip install PyPDF2"
   ]
  },
  {
   "cell_type": "markdown",
   "id": "dcd2ff05",
   "metadata": {},
   "source": [
    "For PdfFileReader() file objects should be opened in rb -> read binary mode, \n",
    "\n",
    "Whereas for PdfFileWriter() file objects should be opened in wb -> write binary mode."
   ]
  },
  {
   "cell_type": "markdown",
   "id": "ea745d35",
   "metadata": {},
   "source": [
    "# 2. From a PdfFileReader object, how do you get a Page object for page 5?"
   ]
  },
  {
   "cell_type": "markdown",
   "id": "530dde96",
   "metadata": {},
   "source": [
    "Answer:\n",
    "    \n",
    "    PdfFileReader class provides a method called getPage(page_no) to get a page object.\n",
    "    \n",
    "    # Example Code:\n",
    "    \n",
    "    from PyPDF2 import PdfFileReader\n",
    "    \n",
    "    pdf_reader = PdfFileReader(file_path)\n",
    "    \n",
    "    for page in pdf_reader.getNumPages():\n",
    "    \n",
    "    pdf_reader.getPage(page)"
   ]
  },
  {
   "cell_type": "markdown",
   "id": "1fcc36d2",
   "metadata": {},
   "source": [
    "# 3. What PdfFileReader variable stores the number of pages in the PDF document?"
   ]
  },
  {
   "cell_type": "markdown",
   "id": "577e764d",
   "metadata": {},
   "source": [
    "Answer: \n",
    "    \n",
    "    getNumPages() method of PdfFileReader class stores the no pages in a PDF document\n",
    "\n"
   ]
  },
  {
   "cell_type": "code",
   "execution_count": null,
   "id": "709172d1",
   "metadata": {},
   "outputs": [],
   "source": [
    "#Example Code:\n",
    "from PyPDF2 import PdfFileReader\n",
    "pdf_reader = PdfFileReader(file_path)\n",
    "print(pdf_reader.getNumPages()) # Prints the no of pages in a input document"
   ]
  },
  {
   "cell_type": "markdown",
   "id": "f82ab0c7",
   "metadata": {},
   "source": [
    "# 4. If a PdfFileReader object’s PDF is encrypted with the password swordfish, what must you do before you can obtain Page objects from it?"
   ]
  },
  {
   "cell_type": "markdown",
   "id": "007b235b",
   "metadata": {},
   "source": [
    "Answer:\n",
    "    \n",
    "    If a PdfFileReader object’s PDF is encrypted with the password swordfish and you're not aware of it. first read the Pdf \n",
    "    \n",
    "    using the PdfFileReader Class. PdfFileReader class provides a attribute called isEncrypted to check whether a pdf is \n",
    "    \n",
    "    encrypted or not. the method returns true if a pdf is encrypted and vice versa. if pdf is encrypted use the decrypt()\n",
    "    \n",
    "    method \n",
    "    \n",
    "    provided by PdfFileReader class first then try to read the contents/pages of the pdf, else PyPDF2 will raise the \n",
    "    \n",
    "    following error\n",
    "\n",
    "\n",
    "PyPDF2.utils.PdfReadError: file has not been decrypted\n",
    "\n"
   ]
  },
  {
   "cell_type": "code",
   "execution_count": null,
   "id": "f55058bd",
   "metadata": {},
   "outputs": [],
   "source": [
    "#Example Code:\n",
    "from PyPDF2 import PdfFileReader\n",
    "pdf_reader = PdfFileReader(file_path)\n",
    "if pdf_reader.isEncrypted: # to check whether the pdf is encrypted or not\n",
    "    pdf_reader.decrypt(\"swordfish\")\n",
    "for page in pdf_reader.pages:\n",
    "    print(page.extractText()) # to print the text data of a page from pdf"
   ]
  },
  {
   "cell_type": "markdown",
   "id": "0d4fe436",
   "metadata": {},
   "source": [
    "# 5. What methods do you use to rotate a page?"
   ]
  },
  {
   "cell_type": "markdown",
   "id": "af8142e2",
   "metadata": {},
   "source": [
    "Answer:\n",
    "    \n",
    "    PyPDF2 Package provides 2 methods to rotate a page:\n",
    "\n",
    "    rotateClockWise() -> For Clockwise rotation\n",
    "    \n",
    "    rotateCounterClockWise() -> For Counter Clockwise rotation\n",
    "    \n",
    "    The PyPDF2 package only allows you to rotate a page in increments of 90 degrees. You will receive an AssertionError             otherwise."
   ]
  },
  {
   "cell_type": "markdown",
   "id": "ca78d429",
   "metadata": {},
   "source": [
    "# 6. What is the difference between a Run object and a Paragraph object?"
   ]
  },
  {
   "cell_type": "code",
   "execution_count": null,
   "id": "6cf000de",
   "metadata": {},
   "outputs": [],
   "source": [
    "Answer:\n",
    "    \n",
    "    Word document contain formatted text wrapped within three object levels:\n",
    "    lowest level: run objects.\n",
    "    middle level: paragraph objects.\n",
    "    highest level: document object.\n",
    "\n",
    "Run Object is used for inline content, text, pictures and other items within a paragraph. "
   ]
  },
  {
   "cell_type": "markdown",
   "id": "08310dc9",
   "metadata": {},
   "source": [
    "# 7. How do you obtain a list of Paragraph objects for a Document object that’s stored in a variable named doc?"
   ]
  },
  {
   "cell_type": "code",
   "execution_count": null,
   "id": "d924692a",
   "metadata": {},
   "outputs": [],
   "source": [
    "# Example\n",
    "from docx import Document\n",
    "doc = Document(\"sample_file.docx\") # Path of the Docx file\n",
    "print(doc.paragraphs) # Prints the list of Paragraph objects for a Document\n",
    "for paragraph in doc.paragraphs:\n",
    "    print(paragraph.text) # Prints the text in the paragraph"
   ]
  },
  {
   "cell_type": "markdown",
   "id": "16cead4e",
   "metadata": {},
   "source": [
    "# 8. What type of object has bold, underline, italic, strike, and outline variables?"
   ]
  },
  {
   "cell_type": "markdown",
   "id": "40a97c63",
   "metadata": {},
   "source": [
    "Answer:\n",
    "    \n",
    "    Run object\n",
    "    \n",
    "    Run object has bold, underline, italic, strike, and outline variables. The text in a Word document is more than just a           string. It has font, size, color, and other styling information associated with it.\n",
    "\n",
    "    A style in Word is a collection of these attributes. A Run object is a contiguous run of text with the same style. A new Run     object is needed whenever the text style changes."
   ]
  },
  {
   "cell_type": "markdown",
   "id": "7ac729b8",
   "metadata": {},
   "source": [
    "# 9. What is the difference between False, True, and None for the bold variable?"
   ]
  },
  {
   "cell_type": "code",
   "execution_count": null,
   "id": "f677daac",
   "metadata": {},
   "outputs": [],
   "source": [
    "bold = True  # Style Set to Bold\n",
    "bold = False # Style Not Set to Bold\n",
    "bold = None # Style is Not Applicable"
   ]
  },
  {
   "cell_type": "markdown",
   "id": "15dbff8a",
   "metadata": {},
   "source": [
    "# 10. How do you create a Document object for a new Word document?"
   ]
  },
  {
   "cell_type": "code",
   "execution_count": null,
   "id": "0d16c24e",
   "metadata": {},
   "outputs": [],
   "source": [
    "from docx import Document"
   ]
  },
  {
   "cell_type": "code",
   "execution_count": null,
   "id": "b2e3ce21",
   "metadata": {},
   "outputs": [],
   "source": [
    "doc = docx.Document()\n",
    "doc.add_paragraph('world')\n",
    "doc.save('hello.docx')"
   ]
  },
  {
   "cell_type": "markdown",
   "id": "9d6b6654",
   "metadata": {},
   "source": [
    "# 11. How do you add a paragraph with the text &#39;Hello, there!&#39; to a Document object stored in a variable named doc?"
   ]
  },
  {
   "cell_type": "code",
   "execution_count": null,
   "id": "a58deccd",
   "metadata": {},
   "outputs": [],
   "source": [
    "# Example Program\n",
    "from docx import Document\n",
    "doc = Document()\n",
    "doc.add_paragraph('Hello, there!')\n",
    "doc.save('hello.docx')\n"
   ]
  },
  {
   "cell_type": "markdown",
   "id": "92554980",
   "metadata": {},
   "source": [
    "# 12. What integers represent the levels of headings available in Word documents?"
   ]
  },
  {
   "cell_type": "markdown",
   "id": "78a385c4",
   "metadata": {},
   "source": [
    "Answer:\n",
    "    \n",
    "    The levels for a heading in a word document can be specified by using the level attribute inside the add_heading method. There are a total of 5 levels statring for 0 t0 4. where level 0 makes a headline with the horizontal line below the text, whereas the heading level 1 is the main heading. Similarly, the other headings are sub-heading with their's font-sizes in decreasing order.\n",
    "    "
   ]
  }
 ],
 "metadata": {
  "kernelspec": {
   "display_name": "Python 3 (ipykernel)",
   "language": "python",
   "name": "python3"
  },
  "language_info": {
   "codemirror_mode": {
    "name": "ipython",
    "version": 3
   },
   "file_extension": ".py",
   "mimetype": "text/x-python",
   "name": "python",
   "nbconvert_exporter": "python",
   "pygments_lexer": "ipython3",
   "version": "3.9.12"
  }
 },
 "nbformat": 4,
 "nbformat_minor": 5
}
