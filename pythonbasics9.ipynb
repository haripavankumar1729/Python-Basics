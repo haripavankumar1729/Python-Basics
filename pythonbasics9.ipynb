{
 "cells": [
  {
   "cell_type": "markdown",
   "id": "86567575",
   "metadata": {},
   "source": [
    "# 1. To what does a relative path refer?"
   ]
  },
  {
   "cell_type": "markdown",
   "id": "0e6edade",
   "metadata": {},
   "source": [
    "Answer:\n",
    "    \n",
    "    The relative path is the path to some file with respect to your current working directory (PWD).\n",
    "    \n",
    "    For example: if Absolute path to a file called test1.txt is: C:/users/admin/docs/test1.txt If my PWD is C:/users/admin/ , then the relative path to test1.txt would be: docs/test1.txt\n",
    "    \n",
    "    Note: PWD + relative path = absolute path"
   ]
  },
  {
   "cell_type": "markdown",
   "id": "bb2b44fb",
   "metadata": {},
   "source": [
    "# 2. What does an absolute path start with your operating system?"
   ]
  },
  {
   "cell_type": "markdown",
   "id": "01152d9c",
   "metadata": {},
   "source": [
    "Answer:\n",
    "    \n",
    "    In Linux based systems the absolute path starts with / \n",
    "    \n",
    "    Where as in Windows based systems absolute path starts with C:"
   ]
  },
  {
   "cell_type": "markdown",
   "id": "12366786",
   "metadata": {},
   "source": [
    "# 3. What do the functions os.getcwd() and os.chdir() do?"
   ]
  },
  {
   "cell_type": "markdown",
   "id": "1240cb9f",
   "metadata": {},
   "source": [
    "Answer:\n",
    "    \n",
    "    os.getcwd() method tells us the location of current working directory (CWD). \n",
    "    \n",
    "    Whereas os.chdir() method in Python used to change the current working directory to some \n",
    "    specified path. \n",
    "    \n",
    "    These functions are similar to linux commands pwd and cd"
   ]
  },
  {
   "cell_type": "markdown",
   "id": "1f68b473",
   "metadata": {},
   "source": [
    "# 4. What are the . and .. folders?"
   ]
  },
  {
   "cell_type": "markdown",
   "id": "66b64fc1",
   "metadata": {},
   "source": [
    "Answer:\n",
    "    \n",
    "    \" . \" Represents the Current Directory Whereas \n",
    "    \n",
    "    \" .. \" Represents the Parent Directory of the Current Directory\n",
    "    \n",
    "    Example:\n",
    "        \n",
    "        C:\\\\Users\\\\hari\\\\Documents\\\\iNeuron-Assignments\\\\Pythonbasic\n",
    "        \n",
    "        Then . represents the path C:\\\\Users\\\\hari\\\\Documents\\\\iNeuron-Assignments\\\\Pythonbasic\n",
    "        \n",
    "        Where as .. represents the path C:\\\\Users\\\\hari\\\\Documents\\\\iNeuron-Assignments"
   ]
  },
  {
   "cell_type": "markdown",
   "id": "c439aaf5",
   "metadata": {},
   "source": [
    "# 5. In C:\\bacon\\eggs\\spam.txt, which part is the dir name, and which part is the base name?"
   ]
  },
  {
   "cell_type": "markdown",
   "id": "bf862f89",
   "metadata": {},
   "source": [
    "Answer:\n",
    "    \n",
    "    In \n",
    "    \n",
    "    C:\\bacon\\eggs\\spam.txt\n",
    "\n",
    "        The dir name is C:\\\\bacon\\\\eggs\n",
    "        \n",
    "        The Base name is spam.txt"
   ]
  },
  {
   "cell_type": "markdown",
   "id": "1009d31b",
   "metadata": {},
   "source": [
    "# 6. What are the three “mode” arguments that can be passed to the open() function?"
   ]
  },
  {
   "cell_type": "markdown",
   "id": "ab520262",
   "metadata": {},
   "source": [
    "Answer:\n",
    "    \n",
    "    Three mode arguments that can be passed to open() are read, write, append.\n",
    "    \n",
    "    The strings: \n",
    "    \n",
    "    'r' for read mode \n",
    "    \n",
    "    'w' for write mode\n",
    "    \n",
    "    'a' for append mode."
   ]
  },
  {
   "cell_type": "markdown",
   "id": "de2d38eb",
   "metadata": {},
   "source": [
    "# 7. What happens if an existing file is opened in write mode?"
   ]
  },
  {
   "cell_type": "markdown",
   "id": "ea7bd3a9",
   "metadata": {},
   "source": [
    "Answer:\n",
    "    \n",
    "    An existing file opened in write mode will be erased and completely overwritten.\n",
    "    \n",
    "    This mode will overwrite any existing content in a file. If the given file does not exist,           \n",
    "    new one will be created.\n",
    "\n"
   ]
  },
  {
   "cell_type": "markdown",
   "id": "b9f389b2",
   "metadata": {},
   "source": [
    "# 8. How do you tell the difference between read() and readlines()?"
   ]
  },
  {
   "cell_type": "markdown",
   "id": "5f600474",
   "metadata": {},
   "source": [
    "Answer:\n",
    "    \n",
    "    The read() method returns the file’s entire contents as a single string value. \n",
    "\n",
    "    The readlines() method returns a list of strings, where each string is a line from the file’s       contents."
   ]
  },
  {
   "cell_type": "markdown",
   "id": "2ad5dfbd",
   "metadata": {},
   "source": [
    "# 9. What data structure does a shelf value resemble?"
   ]
  },
  {
   "cell_type": "markdown",
   "id": "15a14727",
   "metadata": {},
   "source": [
    "Answer:\n",
    "    \n",
    "    A shelf value resembles a dictionary value; it has keys and values, along with keys() and \n",
    "    values() methods that work similarly to the dictionary methods of the same names.\n",
    "\n",
    "    we can save variables in your Python programs to binary shelf files using the shelve module. \n",
    "    This way, program can restore data to variables from the hard drive."
   ]
  }
 ],
 "metadata": {
  "kernelspec": {
   "display_name": "Python 3 (ipykernel)",
   "language": "python",
   "name": "python3"
  },
  "language_info": {
   "codemirror_mode": {
    "name": "ipython",
    "version": 3
   },
   "file_extension": ".py",
   "mimetype": "text/x-python",
   "name": "python",
   "nbconvert_exporter": "python",
   "pygments_lexer": "ipython3",
   "version": "3.9.12"
  }
 },
 "nbformat": 4,
 "nbformat_minor": 5
}
