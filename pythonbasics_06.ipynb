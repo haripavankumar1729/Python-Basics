{
 "cells": [
  {
   "cell_type": "markdown",
   "id": "2352a11c",
   "metadata": {},
   "source": [
    "# Assignment-6"
   ]
  },
  {
   "cell_type": "markdown",
   "id": "da307eb3",
   "metadata": {},
   "source": [
    "# 1.What are escape characters, and how do you use them?"
   ]
  },
  {
   "cell_type": "markdown",
   "id": "8ea27369",
   "metadata": {},
   "source": [
    "# Answer:\n",
    "-Escape character allow you to include special characters in strings. To do this, simply add a backslash () before the character you want to escape.\n",
    "\n",
    "-Code for example:\n",
    "\n",
    "s = 'Hello, what's upp?'\n",
    "\n",
    "print(s)"
   ]
  },
  {
   "cell_type": "markdown",
   "id": "7330d228",
   "metadata": {},
   "source": [
    "# 2. What do the escape characters n and t stand for?\n",
    "\n",
    "Answer:"
   ]
  },
  {
   "cell_type": "markdown",
   "id": "17785864",
   "metadata": {},
   "source": [
    "- \\n stand for new line characters, will move values or object next to \\n to next line.\n",
    "- \\t stand for tab, will move values or object next to \\n to tab space.\n",
    "\n"
   ]
  },
  {
   "cell_type": "markdown",
   "id": "00417d68",
   "metadata": {},
   "source": [
    "# 3. What is the way to include backslash characters in a string?"
   ]
  },
  {
   "cell_type": "markdown",
   "id": "15fa61bd",
   "metadata": {},
   "source": [
    "#Answer:\n",
    "- The \\ escape character will represent a backslash character."
   ]
  },
  {
   "cell_type": "markdown",
   "id": "b8236180",
   "metadata": {},
   "source": [
    "# 4. The string \"Howl's Moving Castle\" is a correct value. Why isn't the single quote character in the word Howl's not escaped a problem?\n",
    "\n",
    "Answer:"
   ]
  },
  {
   "cell_type": "markdown",
   "id": "fdaad4c5",
   "metadata": {},
   "source": [
    "- String is enclosed between doble quote “ “ hence single quote in Howl’s is not escaped"
   ]
  },
  {
   "cell_type": "markdown",
   "id": "760c3b81",
   "metadata": {},
   "source": [
    "# 5. How do you write a string of newlines if you don&#39;t want to use the n character?\n",
    "Answer"
   ]
  },
  {
   "cell_type": "markdown",
   "id": "3c867fd7",
   "metadata": {},
   "source": [
    "- With triple-quoted string literals, you can use actual newlines instead of n \n"
   ]
  },
  {
   "cell_type": "markdown",
   "id": "36678813",
   "metadata": {},
   "source": [
    "# 6. What are the values of the given expressions?\n",
    "&#39;Hello, world!&#39;[1]\n",
    "\n",
    "&#39;Hello, world!&#39;[0:5]\n",
    "\n",
    "&#39;Hello, world!&#39;[:5]\n",
    "\n",
    "&#39;Hello, world!&#39;[3:]\n",
    "\n",
    "Answer"
   ]
  },
  {
   "cell_type": "markdown",
   "id": "3464edb4",
   "metadata": {},
   "source": [
    "# Answer"
   ]
  },
  {
   "cell_type": "markdown",
   "id": "2cdf49c4",
   "metadata": {},
   "source": [
    "‘e’\n",
    "\n",
    "'Hello'\n",
    "\n",
    "'Hello'\n",
    "\n",
    "'lo, world!'"
   ]
  },
  {
   "cell_type": "markdown",
   "id": "4ff2540c",
   "metadata": {},
   "source": [
    "# 7. What are the values of the following expressions?\n",
    "\n",
    "&#39;Hello&#39;.upper()\n",
    "\n",
    "&#39;Hello&#39;.upper().isupper()\n",
    "\n",
    "&#39;Hello&#39;.upper().lower()"
   ]
  },
  {
   "cell_type": "markdown",
   "id": "6a0cacd2",
   "metadata": {},
   "source": [
    "# Answer"
   ]
  },
  {
   "cell_type": "code",
   "execution_count": 3,
   "id": "231934d7",
   "metadata": {},
   "outputs": [
    {
     "data": {
      "text/plain": [
       "'HELLO'"
      ]
     },
     "execution_count": 3,
     "metadata": {},
     "output_type": "execute_result"
    }
   ],
   "source": [
    "'Hello'.upper()"
   ]
  },
  {
   "cell_type": "code",
   "execution_count": 4,
   "id": "bc6ce0e4",
   "metadata": {},
   "outputs": [
    {
     "data": {
      "text/plain": [
       "True"
      ]
     },
     "execution_count": 4,
     "metadata": {},
     "output_type": "execute_result"
    }
   ],
   "source": [
    "'Hello'.upper().isupper()"
   ]
  },
  {
   "cell_type": "code",
   "execution_count": 6,
   "id": "3ab2d55e",
   "metadata": {},
   "outputs": [
    {
     "data": {
      "text/plain": [
       "'hello'"
      ]
     },
     "execution_count": 6,
     "metadata": {},
     "output_type": "execute_result"
    }
   ],
   "source": [
    "'Hello'.upper().lower()"
   ]
  },
  {
   "cell_type": "markdown",
   "id": "9f070a7a",
   "metadata": {},
   "source": [
    "# 8. What are the values of the following expressions?\n",
    "\n",
    "&#39;Remember, remember, the fifth of July.&#39;.split()\n",
    "\n",
    "&#39;-&#39;.join(&#39;There can only one.&#39;.split())"
   ]
  },
  {
   "cell_type": "markdown",
   "id": "f35b46b8",
   "metadata": {},
   "source": [
    "# Answer"
   ]
  },
  {
   "cell_type": "code",
   "execution_count": 9,
   "id": "748ce26e",
   "metadata": {},
   "outputs": [
    {
     "data": {
      "text/plain": [
       "['Remember,', 'remember,', 'the', 'fifth', 'of', 'July.']"
      ]
     },
     "execution_count": 9,
     "metadata": {},
     "output_type": "execute_result"
    }
   ],
   "source": [
    "'Remember, remember, the fifth of July.'.split() "
   ]
  },
  {
   "cell_type": "code",
   "execution_count": 10,
   "id": "2f6bab10",
   "metadata": {},
   "outputs": [
    {
     "data": {
      "text/plain": [
       "'There-can-only-one.'"
      ]
     },
     "execution_count": 10,
     "metadata": {},
     "output_type": "execute_result"
    }
   ],
   "source": [
    "\n",
    "'-'.join('There can only one.'.split()) # here \"-\" is being joined to the string"
   ]
  },
  {
   "cell_type": "code",
   "execution_count": 11,
   "id": "e234d240",
   "metadata": {},
   "outputs": [
    {
     "data": {
      "text/plain": [
       "['There', 'can', 'only', 'one.']"
      ]
     },
     "execution_count": 11,
     "metadata": {},
     "output_type": "execute_result"
    }
   ],
   "source": [
    "'There can only one.'.split() # here we got result as a list and then we join \"-\" to the list."
   ]
  },
  {
   "cell_type": "markdown",
   "id": "f668ad3d",
   "metadata": {},
   "source": [
    "# 9. What are the methods for right-justifying, left-justifying, and centering a string?"
   ]
  },
  {
   "cell_type": "markdown",
   "id": "3aa37ad8",
   "metadata": {},
   "source": [
    "# Answer"
   ]
  },
  {
   "cell_type": "markdown",
   "id": "9e4f0132",
   "metadata": {},
   "source": [
    "Python string method rjust() returns the string right justified in a string of length width. \n",
    "Padding is done using the specified fillchar (default is a space).\n",
    "The original string is returned if width is less than \n",
    "len(s).\n",
    "\n",
    "str.rjust(width[, fillchar])\n",
    "\n",
    "method ljust() returns the string left justified in a string of length width. Padding is done \n",
    "using the specified fillchar (default is a space). The original string is returned if width is less than len(s).\n",
    "\n",
    "str.ljust(width[, fillchar])\n",
    "\n",
    "str.center(s, width[, fillchar])  -- This will center the string."
   ]
  },
  {
   "cell_type": "code",
   "execution_count": 19,
   "id": "fa86d34f",
   "metadata": {},
   "outputs": [
    {
     "name": "stdout",
     "output_type": "stream",
     "text": [
      "0000000000000000000000this is Assignemnt number 6 ....wow!!!\n"
     ]
    }
   ],
   "source": [
    "str = \"this is Assignemnt number 6 ....wow!!!\";\n",
    "print(str.rjust(60, '0')) "
   ]
  },
  {
   "cell_type": "code",
   "execution_count": 18,
   "id": "89961e24",
   "metadata": {},
   "outputs": [
    {
     "name": "stdout",
     "output_type": "stream",
     "text": [
      "this is Assignemnt number 6 ....wow!!!0000000000000000000000\n"
     ]
    }
   ],
   "source": [
    "str = \"this is Assignemnt number 6 ....wow!!!\";\n",
    "print(str.ljust(60, '0')) "
   ]
  },
  {
   "cell_type": "code",
   "execution_count": 20,
   "id": "7785ce1d",
   "metadata": {},
   "outputs": [
    {
     "name": "stdout",
     "output_type": "stream",
     "text": [
      "00000000000this is Assignemnt number 6 ....wow!!!00000000000\n"
     ]
    }
   ],
   "source": [
    "str = \"this is Assignemnt number 6 ....wow!!!\";\n",
    "print(str.center(60, '0')) "
   ]
  },
  {
   "cell_type": "markdown",
   "id": "7d279757",
   "metadata": {},
   "source": [
    "# 10. What is the best way to remove whitespace characters from the start or end?"
   ]
  },
  {
   "cell_type": "markdown",
   "id": "08b67daa",
   "metadata": {},
   "source": [
    "# Answer"
   ]
  },
  {
   "cell_type": "markdown",
   "id": "4db97848",
   "metadata": {},
   "source": [
    "To remove white spaces present at start and end of the string, \n",
    "we can use lstrip() and rstrip() function on the string to remove start and end whitespaces. "
   ]
  },
  {
   "cell_type": "code",
   "execution_count": 22,
   "id": "e44f9af1",
   "metadata": {},
   "outputs": [
    {
     "name": "stdout",
     "output_type": "stream",
     "text": [
      "length of the string:  20\n",
      "length after removing whitespaces:  15\n"
     ]
    }
   ],
   "source": [
    "str = \"    Shall we go out \"\n",
    "\n",
    "print(\"length of the string: \",len(str))\n",
    "s = str.lstrip()\n",
    "ss = s.rstrip()\n",
    "print(\"length after removing whitespaces: \" ,len(ss))"
   ]
  },
  {
   "cell_type": "code",
   "execution_count": null,
   "id": "302bafaf",
   "metadata": {},
   "outputs": [],
   "source": []
  }
 ],
 "metadata": {
  "kernelspec": {
   "display_name": "Python 3 (ipykernel)",
   "language": "python",
   "name": "python3"
  },
  "language_info": {
   "codemirror_mode": {
    "name": "ipython",
    "version": 3
   },
   "file_extension": ".py",
   "mimetype": "text/x-python",
   "name": "python",
   "nbconvert_exporter": "python",
   "pygments_lexer": "ipython3",
   "version": "3.9.12"
  }
 },
 "nbformat": 4,
 "nbformat_minor": 5
}
