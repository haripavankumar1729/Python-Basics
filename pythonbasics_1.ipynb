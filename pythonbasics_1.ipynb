{
 "cells": [
  {
   "cell_type": "markdown",
   "id": "a21fe206",
   "metadata": {},
   "source": [
    "# 1. In the below elements which of them are values or an expression? eg:- values can be integer or string and expressions will be mathematical operators.\n",
    "\n",
    "*\n",
    "\n",
    "'hello'\n",
    "\n",
    "-87.8\n",
    "\n",
    "-\n",
    "\n",
    "/\n",
    "\n",
    "+\n",
    "\n",
    "6"
   ]
  },
  {
   "cell_type": "markdown",
   "id": "9bf32439",
   "metadata": {},
   "source": [
    "#Answer:\n",
    "Following are the operators:\n",
    " ##### * , -, /, +\n",
    "Following are the values:\n",
    " ##### 'hello', -87.8, 6\n",
    "    "
   ]
  },
  {
   "cell_type": "markdown",
   "id": "440f668f",
   "metadata": {},
   "source": [
    "# 2. What is the difference between string and variable?"
   ]
  },
  {
   "cell_type": "markdown",
   "id": "973596c5",
   "metadata": {},
   "source": [
    "#Answer:\n",
    "- Variable is a name given to the memory location where the values is stored in the memory \n",
    "- a variables are containers for storing data value, a python variable can take any values, like, int, float or string. \n",
    "    Example numA = 6, numB = 24.0, strVal = 'HariPavan'\n",
    "\n",
    "- String represents a text value enclosed with in two double quotes (\" \") or two single quotes (' '). \n",
    "    Example \"HariPavan\", \"Hari1729\""
   ]
  },
  {
   "cell_type": "markdown",
   "id": "aeb6bdf7",
   "metadata": {},
   "source": [
    "# 3. Describe three different data types."
   ]
  },
  {
   "cell_type": "markdown",
   "id": "328e40f9",
   "metadata": {},
   "source": [
    "#Answer:\n",
    "- int - A positive or negative whole number without a decimal point. example  a = 10, b= -8\n",
    "- float - A positive or negative whole number with a decimal point. b = 10.5, c= -5.6\n",
    "- string - any text with in two single or double quotes. c = 'Bhanu878'"
   ]
  },
  {
   "cell_type": "code",
   "execution_count": 7,
   "id": "87fa15e8",
   "metadata": {},
   "outputs": [
    {
     "data": {
      "text/plain": [
       "int"
      ]
     },
     "execution_count": 7,
     "metadata": {},
     "output_type": "execute_result"
    }
   ],
   "source": [
    "a = 17\n",
    "type(a)"
   ]
  },
  {
   "cell_type": "code",
   "execution_count": 9,
   "id": "75eef034",
   "metadata": {},
   "outputs": [
    {
     "data": {
      "text/plain": [
       "float"
      ]
     },
     "execution_count": 9,
     "metadata": {},
     "output_type": "execute_result"
    }
   ],
   "source": [
    "b = 24.6\n",
    "type(b)"
   ]
  },
  {
   "cell_type": "code",
   "execution_count": 10,
   "id": "57e403a7",
   "metadata": {},
   "outputs": [
    {
     "data": {
      "text/plain": [
       "str"
      ]
     },
     "execution_count": 10,
     "metadata": {},
     "output_type": "execute_result"
    }
   ],
   "source": [
    "c = 'Har6'\n",
    "type(c)"
   ]
  },
  {
   "cell_type": "markdown",
   "id": "d2b3a781",
   "metadata": {},
   "source": [
    "# 4. What is an expression made up of? What do all expressions do?"
   ]
  },
  {
   "cell_type": "markdown",
   "id": "6db81153",
   "metadata": {},
   "source": [
    "#Answer:\n",
    "- An Expression is a combination of variables and operators. Their expressions perform operation of variable based on \n",
    "the operators and evaluates the values to a single variable.\n"
   ]
  },
  {
   "cell_type": "code",
   "execution_count": 12,
   "id": "92dddfc7",
   "metadata": {},
   "outputs": [
    {
     "name": "stdout",
     "output_type": "stream",
     "text": [
      "c = 11 + 21\n",
      "c = 32\n"
     ]
    }
   ],
   "source": [
    "# variables \n",
    "a = 11\n",
    "b = 21\n",
    "\n",
    "# The expression - sum\n",
    "c = a + b\n",
    "    \n",
    "# Evalues and store the value in C\n",
    "print('c = {} + {}'.format(a,b))\n",
    "print('c =',c)"
   ]
  },
  {
   "cell_type": "markdown",
   "id": "e539b011",
   "metadata": {},
   "source": [
    "# 5. This assignment statements, like spam = 10. What is the difference between an expression and a statement?"
   ]
  },
  {
   "cell_type": "markdown",
   "id": "9bf02977",
   "metadata": {},
   "source": [
    "#Answer:\n",
    "- The assignemnt statemets assign a value to the variable.\n",
    "- The expressions evalutes the value to a variable.\n",
    "- in spam = 10 , value 10 in assigned to spam, and now spam will have the value 10.\n",
    "- But in expression c = a+b, the value of c depends on the value of a and b."
   ]
  },
  {
   "cell_type": "markdown",
   "id": "e6bf2cd0",
   "metadata": {},
   "source": [
    "# 6. After running the following code, what does the variable bacon contain?\n",
    "bacon = 22\n",
    "\n",
    "bacon + 1"
   ]
  },
  {
   "cell_type": "markdown",
   "id": "ee1871b4",
   "metadata": {},
   "source": [
    "#Answer:\n",
    "- becon will still have value 22.\n",
    "\n",
    "- The becon is assinged with 22,so becon + 1 is reassigned to becon again like, becon= becon + 1. So the value of becon is changed"
   ]
  },
  {
   "cell_type": "code",
   "execution_count": 13,
   "id": "c8a398eb",
   "metadata": {},
   "outputs": [
    {
     "data": {
      "text/plain": [
       "23"
      ]
     },
     "execution_count": 13,
     "metadata": {},
     "output_type": "execute_result"
    }
   ],
   "source": [
    "bacon = 22\n",
    "bacon+1"
   ]
  },
  {
   "cell_type": "markdown",
   "id": "79f523be",
   "metadata": {},
   "source": [
    "# 7. What should the values of the following two terms be?\n",
    "'spam' + 'spamspam'\n",
    "\n",
    "'spam' * 3"
   ]
  },
  {
   "cell_type": "markdown",
   "id": "a14ae887",
   "metadata": {},
   "source": [
    "#Answer:\n",
    "- The output of both of them are 'spamspamspam'\n"
   ]
  },
  {
   "cell_type": "code",
   "execution_count": 15,
   "id": "15fc99b1",
   "metadata": {},
   "outputs": [
    {
     "data": {
      "text/plain": [
       "'spamspamspam'"
      ]
     },
     "execution_count": 15,
     "metadata": {},
     "output_type": "execute_result"
    }
   ],
   "source": [
    "\n",
    "'spam'+'spamspam'"
   ]
  },
  {
   "cell_type": "code",
   "execution_count": 16,
   "id": "64ef00c7",
   "metadata": {},
   "outputs": [
    {
     "data": {
      "text/plain": [
       "'spamspamspam'"
      ]
     },
     "execution_count": 16,
     "metadata": {},
     "output_type": "execute_result"
    }
   ],
   "source": [
    "\n",
    "'spam'*3\n"
   ]
  },
  {
   "cell_type": "markdown",
   "id": "fa00f766",
   "metadata": {},
   "source": [
    "# 8. Why is eggs a valid variable name while 100 is invalid?"
   ]
  },
  {
   "cell_type": "markdown",
   "id": "3acbca8c",
   "metadata": {},
   "source": [
    "#Answer:\n",
    "- Variable name can not starts with numbers, so 100 is invalid"
   ]
  },
  {
   "cell_type": "code",
   "execution_count": 21,
   "id": "756edebc",
   "metadata": {},
   "outputs": [
    {
     "data": {
      "text/plain": [
       "54"
      ]
     },
     "execution_count": 21,
     "metadata": {},
     "output_type": "execute_result"
    }
   ],
   "source": [
    "eggs = 54\n",
    "eggs"
   ]
  },
  {
   "cell_type": "code",
   "execution_count": 22,
   "id": "1bf73669",
   "metadata": {},
   "outputs": [
    {
     "ename": "SyntaxError",
     "evalue": "cannot assign to literal (965219281.py, line 1)",
     "output_type": "error",
     "traceback": [
      "\u001b[1;36m  Input \u001b[1;32mIn [22]\u001b[1;36m\u001b[0m\n\u001b[1;33m    100 = \"hundred number\"\u001b[0m\n\u001b[1;37m    ^\u001b[0m\n\u001b[1;31mSyntaxError\u001b[0m\u001b[1;31m:\u001b[0m cannot assign to literal\n"
     ]
    }
   ],
   "source": [
    "100 = \"hundred number\"\n",
    "100"
   ]
  },
  {
   "cell_type": "markdown",
   "id": "2dad8678",
   "metadata": {},
   "source": [
    "# 9. What three functions can be used to get the integer, floating-point number, or string version of a value?"
   ]
  },
  {
   "cell_type": "markdown",
   "id": "2dc74008",
   "metadata": {},
   "source": [
    "#Answer: Following are those three functions\n",
    "- int()\n",
    "- float()\n",
    "- str()\n",
    "- will convert the values to integer, float, string versions of the values when passed to them"
   ]
  },
  {
   "cell_type": "code",
   "execution_count": 29,
   "id": "9cc25a7b",
   "metadata": {},
   "outputs": [
    {
     "name": "stdout",
     "output_type": "stream",
     "text": [
      "a =  10.5\n"
     ]
    }
   ],
   "source": [
    " a = 10.5\n",
    "print('a = ', a)"
   ]
  },
  {
   "cell_type": "code",
   "execution_count": 30,
   "id": "57038970",
   "metadata": {},
   "outputs": [
    {
     "data": {
      "text/plain": [
       "10"
      ]
     },
     "execution_count": 30,
     "metadata": {},
     "output_type": "execute_result"
    }
   ],
   "source": [
    "int(a)"
   ]
  },
  {
   "cell_type": "code",
   "execution_count": 31,
   "id": "401c2537",
   "metadata": {},
   "outputs": [
    {
     "data": {
      "text/plain": [
       "6"
      ]
     },
     "execution_count": 31,
     "metadata": {},
     "output_type": "execute_result"
    }
   ],
   "source": [
    "b = 6\n",
    "b\n"
   ]
  },
  {
   "cell_type": "code",
   "execution_count": 32,
   "id": "e36036f5",
   "metadata": {},
   "outputs": [
    {
     "data": {
      "text/plain": [
       "6.0"
      ]
     },
     "execution_count": 32,
     "metadata": {},
     "output_type": "execute_result"
    }
   ],
   "source": [
    "float(b)"
   ]
  },
  {
   "cell_type": "code",
   "execution_count": 33,
   "id": "39e46a26",
   "metadata": {},
   "outputs": [
    {
     "data": {
      "text/plain": [
       "66"
      ]
     },
     "execution_count": 33,
     "metadata": {},
     "output_type": "execute_result"
    }
   ],
   "source": [
    "c = 66\n",
    "c\n"
   ]
  },
  {
   "cell_type": "code",
   "execution_count": 34,
   "id": "87e83308",
   "metadata": {},
   "outputs": [
    {
     "data": {
      "text/plain": [
       "'66'"
      ]
     },
     "execution_count": 34,
     "metadata": {},
     "output_type": "execute_result"
    }
   ],
   "source": [
    "str(c)\n"
   ]
  },
  {
   "cell_type": "markdown",
   "id": "52f4be1b",
   "metadata": {},
   "source": [
    "# 10. Why does this expression cause an error? How can you fix it?\n",
    "- 'I have eaten'+99+'burritos'"
   ]
  },
  {
   "cell_type": "code",
   "execution_count": 35,
   "id": "abe3228f",
   "metadata": {},
   "outputs": [
    {
     "ename": "TypeError",
     "evalue": "can only concatenate str (not \"int\") to str",
     "output_type": "error",
     "traceback": [
      "\u001b[1;31m---------------------------------------------------------------------------\u001b[0m",
      "\u001b[1;31mTypeError\u001b[0m                                 Traceback (most recent call last)",
      "Input \u001b[1;32mIn [35]\u001b[0m, in \u001b[0;36m<cell line: 1>\u001b[1;34m()\u001b[0m\n\u001b[1;32m----> 1\u001b[0m \u001b[38;5;124;43m'\u001b[39;49m\u001b[38;5;124;43mI have eaten\u001b[39;49m\u001b[38;5;124;43m'\u001b[39;49m\u001b[38;5;241;43m+\u001b[39;49m\u001b[38;5;241;43m99\u001b[39;49m\u001b[38;5;241m+\u001b[39m\u001b[38;5;124m'\u001b[39m\u001b[38;5;124mburritos\u001b[39m\u001b[38;5;124m'\u001b[39m\n",
      "\u001b[1;31mTypeError\u001b[0m: can only concatenate str (not \"int\") to str"
     ]
    }
   ],
   "source": [
    "'I have eaten'+99+'burritos'"
   ]
  },
  {
   "cell_type": "markdown",
   "id": "756cc9e8",
   "metadata": {},
   "source": [
    "#Answer:\n",
    "- from above output we can conclude that it can concatenate only strings"
   ]
  },
  {
   "cell_type": "code",
   "execution_count": 2,
   "id": "521ab00a",
   "metadata": {},
   "outputs": [
    {
     "data": {
      "text/plain": [
       "'C:\\\\Users\\\\HARIPAVAN\\\\ineuron python\\\\pythonassignments'"
      ]
     },
     "execution_count": 2,
     "metadata": {},
     "output_type": "execute_result"
    }
   ],
   "source": [
    "pwd"
   ]
  },
  {
   "cell_type": "code",
   "execution_count": null,
   "id": "bb908f5b",
   "metadata": {},
   "outputs": [],
   "source": []
  }
 ],
 "metadata": {
  "kernelspec": {
   "display_name": "Python 3 (ipykernel)",
   "language": "python",
   "name": "python3"
  },
  "language_info": {
   "codemirror_mode": {
    "name": "ipython",
    "version": 3
   },
   "file_extension": ".py",
   "mimetype": "text/x-python",
   "name": "python",
   "nbconvert_exporter": "python",
   "pygments_lexer": "ipython3",
   "version": "3.9.12"
  }
 },
 "nbformat": 4,
 "nbformat_minor": 5
}
