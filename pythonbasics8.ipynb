{
 "cells": [
  {
   "cell_type": "markdown",
   "id": "7f55f1a6",
   "metadata": {},
   "source": [
    "# 1. Is the Python Standard Library included with PyInputPlus?"
   ]
  },
  {
   "cell_type": "markdown",
   "id": "650f2cc8",
   "metadata": {},
   "source": [
    "Answer:\n",
    "    \n",
    "    No, PyInputPlus is not a part of Python Standard Library, it needs to be installed explicitly using the command !pip \n",
    "    install PyInputPlus"
   ]
  },
  {
   "cell_type": "markdown",
   "id": "a31c0c50",
   "metadata": {},
   "source": [
    "# 2. Why is PyInputPlus commonly imported with import pyinputplus as pypi?"
   ]
  },
  {
   "cell_type": "markdown",
   "id": "36cf157c",
   "metadata": {},
   "source": [
    "Answer:\n",
    "     \n",
    "     import pyinputplus as pyip\n",
    "\n",
    "    pyip code in the import statement saves us from typing pyinputplus each time we want to call a PyInputPlus function. \n",
    "    \n",
    "    Instead we can use the shorter pyip name."
   ]
  },
  {
   "cell_type": "markdown",
   "id": "bf72b9bf",
   "metadata": {},
   "source": [
    "# 3. How do you distinguish between inputInt() and inputFloat()?"
   ]
  },
  {
   "cell_type": "markdown",
   "id": "8962117b",
   "metadata": {},
   "source": [
    "# Answer:\n",
    "    \n",
    "    The inputInt() function returns an int value, while the inputFloat() function returns a float value. This is the difference between returning 4 and 4.0.\n",
    "    \n",
    "    inputInt() function Accepts an integer value. This also takes additional parameters min, max, greaterThan and lessThan for bounds. And it always returns an int.\n",
    "\n",
    "    Whereas inputFloat() function Accepts a floating-point numeric value. this also takes additional min, max, greaterThan and lessThan parameters. and always returns a float."
   ]
  },
  {
   "cell_type": "markdown",
   "id": "564c6840",
   "metadata": {},
   "source": [
    "# 4. Using PyInputPlus, how do you ensure that the user enters a whole number between 0 and 99?"
   ]
  },
  {
   "cell_type": "markdown",
   "id": "37a252f0",
   "metadata": {},
   "source": [
    "Answer:\n",
    "    \n",
    "    PyInputPlus module provides a function called as inputInt() which only returns only integer values. inorder to restrict the input between 0 and 99, i will use parameters like min & max to ensure that user enters the values between the defined range only.\n",
    "\n",
    "    import pyinputplus as pyip\n",
    "    \n",
    "    wholenumber = pyip.inputInt(prompt='Enter a number: ', min=0, max=100)\n",
    "    \n",
    "    print(wholenumber)\n",
    "    "
   ]
  },
  {
   "cell_type": "markdown",
   "id": "be5c03b2",
   "metadata": {},
   "source": [
    "# 5. What is transferred to the keyword arguments allowRegexes and blockRegexes?"
   ]
  },
  {
   "cell_type": "markdown",
   "id": "c6c1786f",
   "metadata": {},
   "source": [
    "Answer:\n",
    "    \n",
    "     we can use allowRegexes and blockRegexes keyword arguments to take list of regular expression strings to determine what the pyinputplus function will reject or accept valid input."
   ]
  },
  {
   "cell_type": "markdown",
   "id": "be040b25",
   "metadata": {},
   "source": [
    "# 6. If a blank input is entered three times, what does inputStr(limit=3) do?"
   ]
  },
  {
   "cell_type": "markdown",
   "id": "f66b2885",
   "metadata": {},
   "source": [
    "Answer:\n",
    "    \n",
    "    The statement inputStr(limit=3) will throw two exceptions ValidationException and RetryLimitException. The first   \n",
    "    exception is thrown because blank values are not allowed by inputStr() function by default.  we want to consider blank     \n",
    "    values  as valid input, we have to set blank=True."
   ]
  },
  {
   "cell_type": "markdown",
   "id": "3f0d360b",
   "metadata": {},
   "source": [
    "# 7. If blank input is entered three times, what does                                  inputStr(limit=3, default=&#39;hello&#39;) do?"
   ]
  },
  {
   "cell_type": "markdown",
   "id": "8520c01a",
   "metadata": {},
   "source": [
    "Answer:\n",
    "    \n",
    "    Since the default parameter is set to hello. after blank input is entered three times instead of raising RetryLimitException exception. the function will return hello as response to the calling function"
   ]
  }
 ],
 "metadata": {
  "kernelspec": {
   "display_name": "Python 3 (ipykernel)",
   "language": "python",
   "name": "python3"
  },
  "language_info": {
   "codemirror_mode": {
    "name": "ipython",
    "version": 3
   },
   "file_extension": ".py",
   "mimetype": "text/x-python",
   "name": "python",
   "nbconvert_exporter": "python",
   "pygments_lexer": "ipython3",
   "version": "3.9.12"
  }
 },
 "nbformat": 4,
 "nbformat_minor": 5
}
