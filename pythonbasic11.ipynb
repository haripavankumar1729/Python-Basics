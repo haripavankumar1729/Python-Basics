{
 "cells": [
  {
   "cell_type": "markdown",
   "id": "cd892bb2",
   "metadata": {},
   "source": [
    "# 1. Create an assert statement that throws an AssertionError if the variable spam is a negative integer."
   ]
  },
  {
   "cell_type": "markdown",
   "id": "6987ce83",
   "metadata": {},
   "source": [
    "Answer"
   ]
  },
  {
   "cell_type": "code",
   "execution_count": 5,
   "id": "bcdbe7a7",
   "metadata": {},
   "outputs": [
    {
     "ename": "AssertionError",
     "evalue": "",
     "output_type": "error",
     "traceback": [
      "\u001b[1;31m---------------------------------------------------------------------------\u001b[0m",
      "\u001b[1;31mAssertionError\u001b[0m                            Traceback (most recent call last)",
      "Input \u001b[1;32mIn [5]\u001b[0m, in \u001b[0;36m<cell line: 6>\u001b[1;34m()\u001b[0m\n\u001b[0;32m      3\u001b[0m \u001b[38;5;28;01mdef\u001b[39;00m \u001b[38;5;21mcheck_negative\u001b[39m(spam):\n\u001b[0;32m      4\u001b[0m     \u001b[38;5;28;01massert\u001b[39;00m spam\u001b[38;5;241m>\u001b[39m\u001b[38;5;241m0\u001b[39m \n\u001b[1;32m----> 6\u001b[0m \u001b[43mcheck_negative\u001b[49m\u001b[43m(\u001b[49m\u001b[38;5;241;43m-\u001b[39;49m\u001b[38;5;241;43m5\u001b[39;49m\u001b[43m)\u001b[49m\n",
      "Input \u001b[1;32mIn [5]\u001b[0m, in \u001b[0;36mcheck_negative\u001b[1;34m(spam)\u001b[0m\n\u001b[0;32m      3\u001b[0m \u001b[38;5;28;01mdef\u001b[39;00m \u001b[38;5;21mcheck_negative\u001b[39m(spam):\n\u001b[1;32m----> 4\u001b[0m     \u001b[38;5;28;01massert\u001b[39;00m spam\u001b[38;5;241m>\u001b[39m\u001b[38;5;241m0\u001b[39m\n",
      "\u001b[1;31mAssertionError\u001b[0m: "
     ]
    }
   ],
   "source": [
    "def check_negative(spam):\n",
    "    assert spam>0 \n",
    "    \n",
    "check_negative(-5)"
   ]
  },
  {
   "cell_type": "markdown",
   "id": "a4e193f1",
   "metadata": {},
   "source": [
    "# 2. Write an assert statement that triggers an AssertionError if the variables eggs and bacon contain strings that are the same as each other, even if their cases are different (that is, 'hello' and 'hello' are considered the same, and 'goodbye' and 'GOODbye' are also considered the same)."
   ]
  },
  {
   "cell_type": "markdown",
   "id": "4114c901",
   "metadata": {},
   "source": [
    "Answer:"
   ]
  },
  {
   "cell_type": "code",
   "execution_count": 6,
   "id": "399cdc56",
   "metadata": {},
   "outputs": [],
   "source": [
    "def assert_stat(eggs, bacon):\n",
    "    eggs = eggs.lower()\n",
    "    bacon = bacon.lower()\n",
    "    assert eggs==bacon, \"Enter the same words\"\n",
    "    \n",
    "eggs = \"goodbye\"\n",
    "bacon = \"GOODbye\"\n",
    "assert_stat(eggs,bacon)"
   ]
  },
  {
   "cell_type": "code",
   "execution_count": 8,
   "id": "1d26c986",
   "metadata": {},
   "outputs": [
    {
     "ename": "AssertionError",
     "evalue": "Enter the same words and also check the lower and upper case",
     "output_type": "error",
     "traceback": [
      "\u001b[1;31m---------------------------------------------------------------------------\u001b[0m",
      "\u001b[1;31mAssertionError\u001b[0m                            Traceback (most recent call last)",
      "Input \u001b[1;32mIn [8]\u001b[0m, in \u001b[0;36m<cell line: 7>\u001b[1;34m()\u001b[0m\n\u001b[0;32m      5\u001b[0m eggs \u001b[38;5;241m=\u001b[39m \u001b[38;5;124m\"\u001b[39m\u001b[38;5;124mgoodbye\u001b[39m\u001b[38;5;124m\"\u001b[39m\n\u001b[0;32m      6\u001b[0m bacon \u001b[38;5;241m=\u001b[39m \u001b[38;5;124m\"\u001b[39m\u001b[38;5;124mGOODbye\u001b[39m\u001b[38;5;124m\"\u001b[39m\n\u001b[1;32m----> 7\u001b[0m \u001b[43massert_stat\u001b[49m\u001b[43m(\u001b[49m\u001b[43meggs\u001b[49m\u001b[43m,\u001b[49m\u001b[43mbacon\u001b[49m\u001b[43m)\u001b[49m\n",
      "Input \u001b[1;32mIn [8]\u001b[0m, in \u001b[0;36massert_stat\u001b[1;34m(eggs, bacon)\u001b[0m\n\u001b[0;32m      1\u001b[0m \u001b[38;5;28;01mdef\u001b[39;00m \u001b[38;5;21massert_stat\u001b[39m(eggs, bacon):\n\u001b[1;32m----> 3\u001b[0m     \u001b[38;5;28;01massert\u001b[39;00m eggs\u001b[38;5;241m==\u001b[39mbacon, \u001b[38;5;124m\"\u001b[39m\u001b[38;5;124mEnter the same words and also check the lower and upper case\u001b[39m\u001b[38;5;124m\"\u001b[39m\n",
      "\u001b[1;31mAssertionError\u001b[0m: Enter the same words and also check the lower and upper case"
     ]
    }
   ],
   "source": [
    "def assert_stat(eggs, bacon):\n",
    "    \n",
    "    assert eggs==bacon, \"Enter the same words and also check the lower and upper case\"\n",
    "    \n",
    "eggs = \"goodbye\"\n",
    "bacon = \"GOODbye\"\n",
    "assert_stat(eggs,bacon)"
   ]
  },
  {
   "cell_type": "markdown",
   "id": "71e4c6fb",
   "metadata": {},
   "source": [
    "# 3. Create an assert statement that throws an AssertionError every time."
   ]
  },
  {
   "cell_type": "markdown",
   "id": "a753a140",
   "metadata": {},
   "source": [
    "Answer: "
   ]
  },
  {
   "cell_type": "code",
   "execution_count": 9,
   "id": "86fbf4ed",
   "metadata": {},
   "outputs": [
    {
     "ename": "AssertionError",
     "evalue": "This Always Shows Assertion Error",
     "output_type": "error",
     "traceback": [
      "\u001b[1;31m---------------------------------------------------------------------------\u001b[0m",
      "\u001b[1;31mAssertionError\u001b[0m                            Traceback (most recent call last)",
      "Input \u001b[1;32mIn [9]\u001b[0m, in \u001b[0;36m<cell line: 3>\u001b[1;34m()\u001b[0m\n\u001b[0;32m      1\u001b[0m \u001b[38;5;28;01mdef\u001b[39;00m \u001b[38;5;21massert_stat\u001b[39m():\n\u001b[0;32m      2\u001b[0m     \u001b[38;5;28;01massert\u001b[39;00m \u001b[38;5;28;01mFalse\u001b[39;00m, \u001b[38;5;124m'\u001b[39m\u001b[38;5;124mThis Always Shows Assertion Error\u001b[39m\u001b[38;5;124m'\u001b[39m\n\u001b[1;32m----> 3\u001b[0m \u001b[43massert_stat\u001b[49m\u001b[43m(\u001b[49m\u001b[43m)\u001b[49m\n",
      "Input \u001b[1;32mIn [9]\u001b[0m, in \u001b[0;36massert_stat\u001b[1;34m()\u001b[0m\n\u001b[0;32m      1\u001b[0m \u001b[38;5;28;01mdef\u001b[39;00m \u001b[38;5;21massert_stat\u001b[39m():\n\u001b[1;32m----> 2\u001b[0m     \u001b[38;5;28;01massert\u001b[39;00m \u001b[38;5;28;01mFalse\u001b[39;00m, \u001b[38;5;124m'\u001b[39m\u001b[38;5;124mThis Always Shows Assertion Error\u001b[39m\u001b[38;5;124m'\u001b[39m\n",
      "\u001b[1;31mAssertionError\u001b[0m: This Always Shows Assertion Error"
     ]
    }
   ],
   "source": [
    "def assert_stat():\n",
    "    assert False, 'This Always Shows Assertion Error'\n",
    "assert_stat()"
   ]
  },
  {
   "cell_type": "markdown",
   "id": "691a15b8",
   "metadata": {},
   "source": [
    "# 4. What are the two lines that must be present in your software in order to call logging.debug()?"
   ]
  },
  {
   "cell_type": "markdown",
   "id": "0e8f413d",
   "metadata": {},
   "source": [
    "Answer:"
   ]
  },
  {
   "cell_type": "code",
   "execution_count": 10,
   "id": "5f6ac25e",
   "metadata": {},
   "outputs": [],
   "source": [
    "import logging\n",
    "logging.basicConfig(filename = 'trial.txt',level = logging.DEBUG, format = '%(asctime)s - %(message)s - %(levelname)s')\n",
    "logging.debug('Start')\n",
    "logging.debug('End')"
   ]
  },
  {
   "cell_type": "markdown",
   "id": "19bd0bf6",
   "metadata": {},
   "source": [
    "# 5. What are the two lines that your program must have in order to have logging.debug() send a logging message to a file named programLog.txt?"
   ]
  },
  {
   "cell_type": "markdown",
   "id": "27a9d558",
   "metadata": {},
   "source": [
    "Answer:"
   ]
  },
  {
   "cell_type": "code",
   "execution_count": 23,
   "id": "4c753b33",
   "metadata": {},
   "outputs": [],
   "source": [
    "import logging\n",
    "logging.basicConfig(filename='programLog.txt', level=logging.DEBUG, format='%(message)s - %(asctime)s - %(levelname)s')\n",
    "\n",
    "logging.debug(\"hari test message\")\n",
    "logging.debug('This is a test message.')"
   ]
  },
  {
   "cell_type": "markdown",
   "id": "7cf266f4",
   "metadata": {},
   "source": [
    "hari test message - 2023-02-27 18:48:04,430 - DEBUG\n",
    "\n",
    "This is a test message. - 2021-02-27 18:48:05,740 - DEBUG\n",
    "\n",
    "hari test message - 2023-02-27 18:48:10,060 - DEBUG\n",
    "\n",
    "This is a test message. - 2023-02-27 18:48:10,527 - DEBUG"
   ]
  },
  {
   "cell_type": "markdown",
   "id": "6488f9eb",
   "metadata": {},
   "source": [
    "# 6. What are the five levels of logging?"
   ]
  },
  {
   "cell_type": "markdown",
   "id": "6c7568a2",
   "metadata": {},
   "source": [
    "Answer:\n",
    "    \n",
    "    LEVELS OF LOGGING:\n",
    "        \n",
    "                1. Debug\n",
    "                \n",
    "                2. INFO\n",
    "                \n",
    "                3. WARNINGS\n",
    "                \n",
    "                4. ERROR\n",
    "                \n",
    "                5. CRITICAL"
   ]
  },
  {
   "cell_type": "markdown",
   "id": "70e2924d",
   "metadata": {},
   "source": [
    "# 7. What line of code would you add to your software to disable all logging messages?"
   ]
  },
  {
   "cell_type": "code",
   "execution_count": null,
   "id": "14746ecc",
   "metadata": {},
   "outputs": [],
   "source": [
    "Answer:\n",
    "    \n",
    "    \n",
    "logging.disable = True"
   ]
  },
  {
   "cell_type": "markdown",
   "id": "5c9b178b",
   "metadata": {},
   "source": [
    "# 8.Why is using logging messages better than using print() to display the same message?"
   ]
  },
  {
   "cell_type": "markdown",
   "id": "14706d68",
   "metadata": {},
   "source": [
    "Answer:\n",
    "    \n",
    "    print is used when you want to display any particular message or help whereas logging is used to record all events like \n",
    "error, info, debug messages, timestamps."
   ]
  },
  {
   "cell_type": "markdown",
   "id": "3db342b7",
   "metadata": {},
   "source": [
    "# 9. What are the differences between the Step Over, Step In, and Step Out buttons in the debugger?"
   ]
  },
  {
   "cell_type": "markdown",
   "id": "451610dc",
   "metadata": {},
   "source": [
    "Answer:\n",
    "    \n",
    "    Step Over:\n",
    "         This button will step over i.e. it will execute that line but result returned without debugging.\n",
    "    \n",
    "    Step In:\n",
    "       This button helps entering debugger and start debugging line by line.\n",
    "    \n",
    "    Step Out:\n",
    "        This breaks out of the debugger."
   ]
  },
  {
   "cell_type": "markdown",
   "id": "db4d5cb2",
   "metadata": {},
   "source": [
    "# 10.After you click Continue, when will the debugger stop ?"
   ]
  },
  {
   "cell_type": "markdown",
   "id": "6205f086",
   "metadata": {},
   "source": [
    "Answer:\n",
    "    \n",
    "     This will cause the program to continue running normally, without pausing for debugging untill it terminates or reaches a breakpoint."
   ]
  },
  {
   "cell_type": "markdown",
   "id": "0a7d7276",
   "metadata": {},
   "source": [
    "# 11. What is the concept of a breakpoint?"
   ]
  },
  {
   "cell_type": "markdown",
   "id": "6cf4cb0b",
   "metadata": {},
   "source": [
    "Answer:\n",
    "    \n",
    "    Breakpoint is a setting on a line of code that causes the debugger to pause when the program execution reaches the line\n",
    "    \n",
    "    "
   ]
  }
 ],
 "metadata": {
  "kernelspec": {
   "display_name": "Python 3 (ipykernel)",
   "language": "python",
   "name": "python3"
  },
  "language_info": {
   "codemirror_mode": {
    "name": "ipython",
    "version": 3
   },
   "file_extension": ".py",
   "mimetype": "text/x-python",
   "name": "python",
   "nbconvert_exporter": "python",
   "pygments_lexer": "ipython3",
   "version": "3.9.12"
  }
 },
 "nbformat": 4,
 "nbformat_minor": 5
}
