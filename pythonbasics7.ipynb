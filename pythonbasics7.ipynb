{
 "cells": [
  {
   "cell_type": "markdown",
   "id": "20a81a22",
   "metadata": {},
   "source": [
    "# 1. What is the name of the feature responsible for generating Regex objects?\n",
    "\n",
    "\n",
    "Answeer:\n",
    "\n",
    "Regular expressions, called regexes for short, are descriptions for a pattern of text.\n",
    "\n",
    "For example, a \\d in a regex stands for a digit character\n",
    "\n",
    "re is the module avaliable in python for regular expressions\n",
    "\n",
    "The re.compile() function returns Regex objects.\n",
    "\n",
    "Passing a string value representing your regular expression to re.compile() returns a Regex pattern object\n",
    "\n",
    "\n",
    "for eg: phoneNumRegex = re.compile(r'\\d\\d\\d-\\d\\d\\d-\\d\\d\\d\\d')  # regex object for US phone number."
   ]
  },
  {
   "cell_type": "markdown",
   "id": "523e7bcb",
   "metadata": {},
   "source": [
    "# 2. Why do raw strings often appear in Regex objects?\n",
    "\n",
    "Answer:\n",
    "    Raw strings are used so that backslashes do not have to be escaped."
   ]
  },
  {
   "cell_type": "markdown",
   "id": "1c7abd13",
   "metadata": {},
   "source": [
    "# 3. What is the return value of the search() method?\n",
    "\n",
    "Answer:The search() method returns Match objects."
   ]
  },
  {
   "cell_type": "markdown",
   "id": "2b903eb1",
   "metadata": {},
   "source": [
    "# 4. From a Match item, how do you get the actual strings that match the pattern?\n",
    "\n",
    "Answer:The group() method returns strings of the matched text."
   ]
  },
  {
   "cell_type": "markdown",
   "id": "6c9d7552",
   "metadata": {},
   "source": [
    "# 5. In the regex which created from the r'(\\d\\d\\d)-(\\d\\d\\d-\\d\\d\\d\\d)', what does group zero cover? Group 2? Group 1?\n",
    "\n",
    "Group 0 is the entire match, group 1 covers the first set of parentheses, and group 2 covers the second set of parentheses."
   ]
  },
  {
   "cell_type": "markdown",
   "id": "32c9bb6e",
   "metadata": {},
   "source": [
    "# 6. In standard expression syntax, parentheses and intervals have distinct meanings. How can you tell a regex that you want it to fit real parentheses and periods?"
   ]
  },
  {
   "cell_type": "markdown",
   "id": "0d6c4f23",
   "metadata": {},
   "source": [
    "Answer: \n",
    "\n",
    "Periods and parentheses can be escaped with a backslash: ., (, and )."
   ]
  },
  {
   "cell_type": "markdown",
   "id": "ce811611",
   "metadata": {},
   "source": [
    "# 7. The findall() method returns a string list or a list of string tuples. What causes it to return one of the two options?"
   ]
  },
  {
   "cell_type": "markdown",
   "id": "9746181d",
   "metadata": {},
   "source": [
    "Answer:\n",
    "    \n",
    "    If the regex has no groups, a list of strings is returned. If the regex has groups, a list of tuples of strings is \n",
    "    returned."
   ]
  },
  {
   "cell_type": "markdown",
   "id": "2eb10a29",
   "metadata": {},
   "source": [
    "# 8. In standard expressions, what does the | character mean?"
   ]
  },
  {
   "cell_type": "markdown",
   "id": "eaeb9f2b",
   "metadata": {},
   "source": [
    "Answer:\n",
    "    The | character signifies matching \"either, or\" between two groups."
   ]
  },
  {
   "cell_type": "markdown",
   "id": "adf20a58",
   "metadata": {},
   "source": [
    "# 9. In regular expressions, what does the ? character stand for?"
   ]
  },
  {
   "cell_type": "markdown",
   "id": "21aa3b57",
   "metadata": {},
   "source": [
    "Answer:\n",
    "    \n",
    "    ? can have two meanings in regular expressions: declaring a non-greedy match or flagging an optional group. \n",
    "    These meanings are entirely unrelated.\n",
    "    "
   ]
  },
  {
   "cell_type": "markdown",
   "id": "ca6bd36d",
   "metadata": {},
   "source": [
    "# 10.In regular expressions, what is the difference between the + and * characters?"
   ]
  },
  {
   "cell_type": "markdown",
   "id": "574fdc97",
   "metadata": {},
   "source": [
    "Answer:\n",
    "    \n",
    "    The + matches \"one or more\". The *  matches \"zero or more\"."
   ]
  },
  {
   "cell_type": "markdown",
   "id": "aaf02718",
   "metadata": {},
   "source": [
    "# 11. What is the difference between {4} and {4,5} in regular expression?"
   ]
  },
  {
   "cell_type": "markdown",
   "id": "72c6fe3e",
   "metadata": {},
   "source": [
    "Answer:\n",
    "    \n",
    "    (Da){3,} will match three or more instances of the (Da) group, while (Da){,5} will match zero to five instances.\n",
    "Braces can help make your regular expressions shorter.\n",
    "\n",
    "(Da){4}\n",
    "\n",
    "(Da)(Da)(Da)(Da)\n",
    "\n",
    "and \n",
    "\n",
    "(Da){4,5}\n",
    "\n",
    "((Da)(Da)(Da)(Da))|((Da)(Da)(Da)(Da)(Da))"
   ]
  },
  {
   "cell_type": "markdown",
   "id": "a281e0c5",
   "metadata": {},
   "source": [
    "# 12. What do you mean by the \\d, \\w, and \\s shorthand character classes signify in regular expressions?"
   ]
  },
  {
   "cell_type": "markdown",
   "id": "b23e42c9",
   "metadata": {},
   "source": [
    "Answer:\n",
    "    \n",
    "   \\d - Any numeric digit from 0 to 9.\n",
    "\n",
    "   \\w - Any letter, numeric digit, or the underscore character.(Think of this as matching “word” characters.)\n",
    "                             \n",
    "   \\s - Any space, tab, or newline character. (Think of this as matching “space” characters.)"
   ]
  },
  {
   "cell_type": "markdown",
   "id": "a0db788a",
   "metadata": {},
   "source": [
    "# 13. What do means by \\D, \\W, and \\S shorthand character classes signify in regular expressions?"
   ]
  },
  {
   "cell_type": "markdown",
   "id": "b405eac1",
   "metadata": {},
   "source": [
    "Answer:\n",
    "    \n",
    "    \n",
    "\\D - Any character that is not a numeric digit from 0 to 9.\n",
    "\n",
    "\\W - Any character that is not a letter, numeric digit, or the underscore character.\n",
    "\n",
    "\\S - Any character that is not a space, tab, or newline.\n",
    "    \n",
    "    "
   ]
  },
  {
   "cell_type": "markdown",
   "id": "86bdd63f",
   "metadata": {},
   "source": [
    "# 14. What is the difference between .* and .*?"
   ]
  },
  {
   "cell_type": "markdown",
   "id": "75715a77",
   "metadata": {},
   "source": [
    "# The .* performs a greedy match, and the .*? performs a non-greedy match.\n",
    "\n",
    "The dot-star uses greedy mode: It will always try to match as much text as possible. To match any and all text in a \n",
    "non-greedy fashion, use the dot, star, and question mark (.*?).\n",
    "Like with braces, the question mark tells Python to match in a non-greedy way.\n",
    "\n",
    "\n",
    ">>> nongreedyRegex = re.compile(r'<.*?>')\n",
    "\n",
    ">>> mo = nongreedyRegex.search('<To serve man> for dinner.>')\n",
    "    \n",
    ">>> mo.group()\n",
    "    \n",
    "'<To serve man>'\n",
    "\n",
    ">>> greedyRegex = re.compile(r'<.*>')\n",
    "    \n",
    ">>> mo = greedyRegex.search('<To serve man> for dinner.>')\n",
    "    \n",
    ">>> mo.group()\n",
    "'<To serve man> for dinner.>'\n",
    "\n",
    "above one translate to “Match an opening angle bracket, followed by anything, followed by a closing angle bracket.”\n",
    "But the string '<To serve man> for dinner.>' has two possible matches for the closing angle bracket.\n",
    "In the non-greedy version of the regex, Python matches the shortest possible string: '<To serve man>'.\n",
    "    In the greedy version, Python matches the longest possible string: '<To serve man> for dinner.>'."
   ]
  },
  {
   "cell_type": "markdown",
   "id": "6f2e909d",
   "metadata": {},
   "source": [
    "# 15. What is the syntax for matching both numbers and lowercase letters with a character class?"
   ]
  },
  {
   "cell_type": "markdown",
   "id": "548a60f3",
   "metadata": {},
   "source": [
    "Answer:\n",
    "    \n",
    "    Either [0-9a-z] or [a-z0-9]"
   ]
  },
  {
   "cell_type": "markdown",
   "id": "c1c35dc7",
   "metadata": {},
   "source": [
    "# 16. What is the procedure for making a normal expression in regax case insensitive?"
   ]
  },
  {
   "cell_type": "markdown",
   "id": "0bcc41eb",
   "metadata": {},
   "source": [
    "Answer:\n",
    "    \n",
    "    Passing re.I or re.IGNORECASE as the second argument to re.compile() will make the matching case insensitive."
   ]
  },
  {
   "cell_type": "markdown",
   "id": "e4db576e",
   "metadata": {},
   "source": [
    "# 17. What does the . character normally match? What does it match if re.DOTALL is passed as 2nd argument in re.compile()?"
   ]
  },
  {
   "cell_type": "markdown",
   "id": "fa818eb5",
   "metadata": {},
   "source": [
    "Answer:\n",
    "    \n",
    "    The . character normally matches any character except the newline character. If re.DOTALL is passed as the second \n",
    "    argument to re.compile(),then the dot will also match newline characters."
   ]
  },
  {
   "cell_type": "markdown",
   "id": "553794ee",
   "metadata": {},
   "source": [
    "# 18. If numReg = re.compile(r'\\d+'), what will numRegex.sub('X', '11 drummers, 10 pipers, five rings, 4 hen') return?"
   ]
  },
  {
   "cell_type": "markdown",
   "id": "29ac920b",
   "metadata": {},
   "source": [
    "Answer:\n",
    "    \n",
    "    The sub() call will return the string 'X drummers, X pipers, five rings, X hens'."
   ]
  },
  {
   "cell_type": "markdown",
   "id": "d63b0bee",
   "metadata": {},
   "source": [
    "# 19. What does passing re.VERBOSE as the 2nd argument to re.compile() allow to do?"
   ]
  },
  {
   "cell_type": "markdown",
   "id": "a4117194",
   "metadata": {},
   "source": [
    "\n",
    "The re.VERBOSE argument allows you to add whitespace and comments to the string passed to re.compile()."
   ]
  },
  {
   "cell_type": "markdown",
   "id": "790480f4",
   "metadata": {},
   "source": [
    "# 20. How would you write a regex that matche a number with comma for every three digits? It must match the given following:\n",
    "\n",
    "'42'\n",
    "'1,234'\n",
    "'6,368,745'\n",
    "but not the following:\n",
    "\n",
    "'12,34,567' (which has only two digits between the commas)\n",
    "'1234' (which lacks commas)"
   ]
  },
  {
   "cell_type": "markdown",
   "id": "6c3ca805",
   "metadata": {},
   "source": [
    "Answer:\n",
    "    \n",
    "    re.compile(r'^\\d{1,3}(,\\d{3})*$') will create this regex, but other regex strings can produce a similar regular \n",
    "    expression.\n"
   ]
  },
  {
   "cell_type": "markdown",
   "id": "1f69e735",
   "metadata": {},
   "source": [
    "# 21. How would you write a regex that matches the full name of someone whose last name is Watanabe? You can assume that the first name that comes before it will always be one word that begins with a capital letter. The regex must match the following:\n",
    "\n",
    "'Haruto Watanabe'\n",
    "\n",
    "'Alice Watanabe'\n",
    "\n",
    "'RoboCop Watanabe'\n",
    "\n",
    "but not the following:\n",
    "\n",
    "'haruto Watanabe' (where the first name is not capitalized)\n",
    "\n",
    "'Mr. Watanabe' (where the preceding word has a nonletter character)\n",
    "\n",
    "'Watanabe' (which has no first name)\n",
    "\n",
    "'Haruto watanabe' (where Watanabe is not capitalized)"
   ]
  },
  {
   "cell_type": "markdown",
   "id": "c439dc2a",
   "metadata": {},
   "source": [
    "Answer: \n",
    "    \n",
    "    re.compile(r'[A-Z][a-z]*\\sWatanabe')"
   ]
  },
  {
   "cell_type": "markdown",
   "id": "af328165",
   "metadata": {},
   "source": [
    "# 22. How would you write a regex that matches a sentence where the first word is either Alice, Bob, or Carol; the second word is either eats, pets, or throws; the third word is apples, cats, or baseballs; and the sentence ends with a period? This regex should be case-insensitive. It must match the following:\n",
    "\n",
    "'Alice eats apples.'\n",
    "'Bob pets cats.'\n",
    "'Carol throws baseballs.'\n",
    "'Alice throws Apples.'\n",
    "'BOB EATS CATS.'\n",
    "\n",
    "but not the following:\n",
    "\n",
    "'RoboCop eats apples.'\n",
    "'ALICE THROWS FOOTBALLS.'\n",
    "'Carol eats 7 cats.'"
   ]
  },
  {
   "cell_type": "markdown",
   "id": "9eb5de4b",
   "metadata": {},
   "source": [
    "Answer:\n",
    "     \n",
    "     re.compile(r'(Alice|Bob|Carol)\\s(eats|pets|throws)\\s(apples|cats|baseballs).', re.IGNORECASE)"
   ]
  }
 ],
 "metadata": {
  "kernelspec": {
   "display_name": "Python 3 (ipykernel)",
   "language": "python",
   "name": "python3"
  },
  "language_info": {
   "codemirror_mode": {
    "name": "ipython",
    "version": 3
   },
   "file_extension": ".py",
   "mimetype": "text/x-python",
   "name": "python",
   "nbconvert_exporter": "python",
   "pygments_lexer": "ipython3",
   "version": "3.9.12"
  }
 },
 "nbformat": 4,
 "nbformat_minor": 5
}
